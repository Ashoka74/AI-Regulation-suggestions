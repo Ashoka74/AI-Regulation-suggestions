{
 "cells": [
  {
   "cell_type": "code",
   "execution_count": 3,
   "metadata": {},
   "outputs": [],
   "source": [
    "import json\n",
    "import logging\n",
    "import openai\n",
    "import asyncio\n",
    "import chronological\n",
    "from chronological import main, read_prompt, gather, fetch_max_search_doc, cleaned_completion\n"
   ]
  },
  {
   "cell_type": "code",
   "execution_count": 67,
   "metadata": {},
   "outputs": [
    {
     "name": "stderr",
     "output_type": "stream",
     "text": [
      "2021-12-21 16:15:20.132 | DEBUG    | chronological:_completion:36 - CONFIG:\n",
      "    Prompt: '\\n\\ninput: BCI. What are the risks regarding this technology? \\n\\noutput:'\n",
      "    Temperature: 0.3\n",
      "    Engine: davinci-instruct-beta-v3\n",
      "    Max Tokens: 50\n",
      "    Top-P: 1\n",
      "    Stop: ['\\n\\n']\n",
      "    Presence Penalty 0\n",
      "    Frequency Penalty: 0.7\n",
      "    Echo: False\n",
      "    N: 1\n",
      "    Stream: False\n",
      "    Log-Probs: None\n",
      "    Best Of: 1\n",
      "    Logit Bias: {}\n"
     ]
    },
    {
     "name": "stdout",
     "output_type": "stream",
     "text": [
      "\n",
      "\n",
      "input: BCI. What are the risks regarding this technology? \n",
      "\n",
      "output:\n"
     ]
    },
    {
     "name": "stderr",
     "output_type": "stream",
     "text": [
      "2021-12-21 16:15:21.295 | DEBUG    | chronological:_completion:66 - GPT-3 Completion Result: {\n",
      "  \"choices\": [\n",
      "    {\n",
      "      \"finish_reason\": \"length\",\n",
      "      \"index\": 0,\n",
      "      \"logprobs\": null,\n",
      "      \"text\": \" BCI technology is relatively new and has not been extensively studied, so there is some risk associated with its use. Some potential risks include:\\n-Incorrect interpretation of brain signals could lead to incorrect actions or decisions\\n-The technology could be used\"\n",
      "    }\n",
      "  ],\n",
      "  \"created\": 1640099720,\n",
      "  \"id\": \"cmpl-4Hb9E2bp2SyHVfI7u1bDrOJW2GCP3\",\n",
      "  \"model\": \"davinci-instruct-v3:2021-11-19\",\n",
      "  \"object\": \"text_completion\"\n",
      "}\n",
      "2021-12-21 16:15:21.296 | DEBUG    | chronological:_completion:36 - CONFIG:\n",
      "    Prompt: '\\n\\ninput: BCI. What are the risks regarding this technology? \\n\\noutput:BCI technology is relatively new and has not been extensively studied, so there is some risk associated with its use. Some potential risks include:\\n-Incorrect interpretation of brain signals could lead to incorrect actions or decisions\\n-The technology could be used'\n",
      "    Temperature: 0.3\n",
      "    Engine: davinci-instruct-beta-v3\n",
      "    Max Tokens: 50\n",
      "    Top-P: 1\n",
      "    Stop: ['\\n\\n']\n",
      "    Presence Penalty 0\n",
      "    Frequency Penalty: 0.7\n",
      "    Echo: False\n",
      "    N: 1\n",
      "    Stream: False\n",
      "    Log-Probs: None\n",
      "    Best Of: 1\n",
      "    Logit Bias: {}\n",
      "2021-12-21 16:15:21.948 | DEBUG    | chronological:_completion:66 - GPT-3 Completion Result: {\n",
      "  \"choices\": [\n",
      "    {\n",
      "      \"finish_reason\": \"stop\",\n",
      "      \"index\": 0,\n",
      "      \"logprobs\": null,\n",
      "      \"text\": \" to control or manipulate people's thoughts or behavior\\n-The technology could be used to invade people's privacy\"\n",
      "    }\n",
      "  ],\n",
      "  \"created\": 1640099722,\n",
      "  \"id\": \"cmpl-4Hb9Gyd6G2vDjUeV3g9tBg8cp3Z9g\",\n",
      "  \"model\": \"davinci-instruct-v3:2021-11-19\",\n",
      "  \"object\": \"text_completion\"\n",
      "}\n",
      "2021-12-21 16:15:21.949 | DEBUG    | chronological:_completion:36 - CONFIG:\n",
      "    Prompt: '\\n\\ninput: BCI. What are the risks regarding this technology? \\n\\noutput:BCI technology is relatively new and has not been extensively studied, so there is some risk associated with its use. Some potential risks include:\\n-Incorrect interpretation of brain signals could lead to incorrect actions or decisions\\n-The technology could be used\\n\\nMake a list of required regulations to prevent such risks? \\n\\noutput: Art.1'\n",
      "    Temperature: 0.3\n",
      "    Engine: davinci-instruct-beta-v3\n",
      "    Max Tokens: 100\n",
      "    Top-P: 1\n",
      "    Stop: ['\\n\\n']\n",
      "    Presence Penalty 0\n",
      "    Frequency Penalty: 0.7\n",
      "    Echo: False\n",
      "    N: 1\n",
      "    Stream: False\n",
      "    Log-Probs: None\n",
      "    Best Of: 1\n",
      "    Logit Bias: {}\n"
     ]
    },
    {
     "name": "stdout",
     "output_type": "stream",
     "text": [
      "BCI technology is relatively new and has not been extensively studied, so there is some risk associated with its use. Some potential risks include:\n",
      "-Incorrect interpretation of brain signals could lead to incorrect actions or decisions\n",
      "-The technology could be used\n",
      "to control or manipulate people's thoughts or behavior\n",
      "-The technology could be used to invade people's privacy\n"
     ]
    },
    {
     "name": "stderr",
     "output_type": "stream",
     "text": [
      "2021-12-21 16:15:23.346 | DEBUG    | chronological:_completion:66 - GPT-3 Completion Result: {\n",
      "  \"choices\": [\n",
      "    {\n",
      "      \"finish_reason\": \"stop\",\n",
      "      \"index\": 0,\n",
      "      \"logprobs\": null,\n",
      "      \"text\": \". The Parties recognize the importance of protecting human life and health, and in this regard, they shall ensure that BCI technology is used in a safe and responsible manner.\\nArt.2. The Parties shall establish and enforce appropriate regulations to prevent the risks associated with BCI technology from harming human life or health.\"\n",
      "    }\n",
      "  ],\n",
      "  \"created\": 1640099722,\n",
      "  \"id\": \"cmpl-4Hb9GdOgGYVW65kTdzDyrblCq67GW\",\n",
      "  \"model\": \"davinci-instruct-v3:2021-11-19\",\n",
      "  \"object\": \"text_completion\"\n",
      "}\n"
     ]
    },
    {
     "data": {
      "text/plain": [
       "'Art.1. The Parties recognize the importance of protecting human life and health, and in this regard, they shall ensure that BCI technology is used in a safe and responsible manner.\\nArt.2. The Parties shall establish and enforce appropriate regulations to prevent the risks associated with BCI technology from harming human life or health.'"
      ]
     },
     "execution_count": 67,
     "metadata": {},
     "output_type": "execute_result"
    }
   ],
   "source": [
    "\n",
    "\n",
    "user_input = input(\"What technology do you want to regulate? \")\n",
    "\n",
    "\n",
    "prompt_examples = f\"\\n\\ninput: {user_input}. What are the risks regarding this technology? \\n\\noutput:\"\n",
    "\n",
    "prompt_examples2 = f\"\\n\\nMake a list of required regulations to prevent such risks? \\n\\noutput: Art.1\"\n",
    "\n",
    "print(prompt_examples)\n",
    "\n",
    "async def logic():\n",
    "\n",
    "    openai.api_key=<API_KEY>\n",
    "\n",
    "  \n",
    "    risk1= await cleaned_completion(prompt=prompt_examples, engine=\"davinci-instruct-beta-v3\", max_tokens=50, temperature=0.3, top_p=1, frequency_penalty=0.7, stop=['\\n\\n'])\n",
    "    risk2 = await cleaned_completion(prompt=prompt_examples + risk1, engine=\"davinci-instruct-beta-v3\", max_tokens=50, temperature=0.3, top_p=1, frequency_penalty=0.7, stop=['\\n\\n'])\n",
    "    #risk3 = await cleaned_completion(prompt=prompt_examples+ risk2, engine=\"davinci-instruct-beta-v3\", max_tokens=50, temperature=0.3, top_p=1, frequency_penalty=0.7, stop=['\\n\\n'])\n",
    "    #risk4 = await cleaned_completion(prompt=prompt_examples + risk3, engine=\"davinci-instruct-beta-v3\", max_tokens=50, temperature=0.3, top_p=1, frequency_penalty=0.7, stop=['\\n\\n'])\n",
    "\n",
    "    blocks = (risk1, risk2)#, risk3, risk4)\n",
    "\n",
    "    # List all risks splitting by new line\n",
    "    risks = [element.split('\\n\\n') for element in blocks]\n",
    "\n",
    "    # print risks as string\n",
    "    print('\\n'.join(['\\n'.join(element) for element in risks]))    \n",
    "\n",
    "\n",
    "    for element in blocks:\n",
    "        regulation = await cleaned_completion(prompt=prompt_examples + element + prompt_examples2, engine=\"davinci-instruct-beta-v3\", max_tokens=100, temperature=0.3, top_p=1, frequency_penalty=0.7, stop=['\\n\\n'])\n",
    "\n",
    "        reg = regulation.split(\"\\n\\n\")[0]\n",
    "        return(\"Art.1\"+reg)\n",
    "\n",
    "\n",
    "await logic()"
   ]
  },
  {
   "cell_type": "code",
   "execution_count": null,
   "metadata": {},
   "outputs": [],
   "source": [
    " "
   ]
  }
 ],
 "metadata": {
  "interpreter": {
   "hash": "1baa965d5efe3ac65b79dfc60c0d706280b1da80fedb7760faf2759126c4f253"
  },
  "kernelspec": {
   "display_name": "Python 3.8.2 64-bit",
   "name": "python3"
  },
  "language_info": {
   "codemirror_mode": {
    "name": "ipython",
    "version": 3
   },
   "file_extension": ".py",
   "mimetype": "text/x-python",
   "name": "python",
   "nbconvert_exporter": "python",
   "pygments_lexer": "ipython3",
   "version": "3.8.2"
  },
  "orig_nbformat": 4
 },
 "nbformat": 4,
 "nbformat_minor": 2
}
